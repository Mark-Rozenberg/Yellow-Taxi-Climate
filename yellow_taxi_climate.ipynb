{
 "cells": [
  {
   "cell_type": "code",
   "execution_count": 1,
   "metadata": {},
   "outputs": [],
   "source": [
    "import pandas as pd\n",
    "import numpy as np\n",
    "import sqlite3\n",
    "\n",
    "# conn = sqlite3.connect('C:/Users/Mark Rozenberg/Yellow-Taxi-Climate/Data/Main_DB.db')\n",
    "# pd.read_csv('C:/Users/Mark Rozenberg/Yellow-Taxi-Climate/2023_Yellow_Taxi_Trip_Data.csv').to_sql('dt_taxi_23', conn, if_exists='replace', index = False)"
   ]
  },
  {
   "cell_type": "code",
   "execution_count": 5,
   "metadata": {},
   "outputs": [],
   "source": [
    "import os\n",
    "os.environ[\"JAVA_HOME\"] = \"C:\\\\Program Files\\\\Java\\\\jdk-21\"\n",
    "os.environ[\"SPARK_HOME\"] = \"C:\\\\spark\"\n",
    "os.environ['HADOOP_HOME'] = \"C:\\\\hadoop\"\n",
    "# os.environ['HADOOP_COMMON_LIB_NATIVE_DIR'] = \"C:\\\\hadoop\\\\lib\\\\native\"\n",
    "# os.environ['HADOOP_OPTS'] = \"-Djava.library.path=C:\\\\hadoop\\\\lib\\\\native\""
   ]
  },
  {
   "cell_type": "code",
   "execution_count": 3,
   "metadata": {},
   "outputs": [],
   "source": [
    "from pyspark.sql import SparkSession\n",
    "\n",
    "# Initialize Spark session\n",
    "spark = SparkSession.builder \\\n",
    "    .appName(\"Yellow Taxi Data\") \\\n",
    "    .master(\"local[*]\") \\\n",
    "    .config(\"spark.executor.memory\", \"2g\") \\\n",
    "    .config(\"spark.driver.memory\", \"2g\") \\\n",
    "    .config(\"spark.local.dir\", \"/tmp/spark-temp\") \\\n",
    "    .config(\"spark.network.timeout\", \"600s\") \\\n",
    "    .config(\"spark.executor.heartbeatInterval\", \"60s\") \\\n",
    "    .enableHiveSupport() \\\n",
    "    .getOrCreate()"
   ]
  },
  {
   "cell_type": "code",
   "execution_count": 4,
   "metadata": {},
   "outputs": [
    {
     "name": "stdout",
     "output_type": "stream",
     "text": [
      "38310226\n"
     ]
    }
   ],
   "source": [
    "# Read the CSV file\n",
    "df_spark = spark.read.csv('C:/Users/Mark Rozenberg/Yellow-Taxi-Climate/Data/2023_Yellow_Taxi_Trip_Data.csv', header=True, inferSchema=True)\n",
    "print(df_spark.count())"
   ]
  },
  {
   "cell_type": "code",
   "execution_count": 3,
   "metadata": {},
   "outputs": [
    {
     "data": {
      "text/plain": [
       "38.310226"
      ]
     },
     "execution_count": 3,
     "metadata": {},
     "output_type": "execute_result"
    }
   ],
   "source": [
    "38310226/1000000"
   ]
  },
  {
   "cell_type": "code",
   "execution_count": 5,
   "metadata": {},
   "outputs": [
    {
     "name": "stdout",
     "output_type": "stream",
     "text": [
      "19\n"
     ]
    }
   ],
   "source": [
    "print(len(list(df_spark.columns)))"
   ]
  },
  {
   "cell_type": "code",
   "execution_count": 17,
   "metadata": {},
   "outputs": [],
   "source": [
    "import psycopg2\n",
    "\n",
    "# Connect to your postgres DB\n",
    "conn = psycopg2.connect(\n",
    "    dbname='Yellow-Taxi',\n",
    "    user='postgres',\n",
    "    password='7466239',\n",
    "    host='localhost',\n",
    "    port='5432'\n",
    ")\n",
    "\n",
    "# Open a cursor to perform database operations\n",
    "cur = conn.cursor()"
   ]
  },
  {
   "cell_type": "code",
   "execution_count": 18,
   "metadata": {},
   "outputs": [],
   "source": [
    "cur.execute(''' drop table if exists taxi_data''')\n",
    "conn.commit()"
   ]
  },
  {
   "cell_type": "code",
   "execution_count": 15,
   "metadata": {},
   "outputs": [
    {
     "data": {
      "text/plain": [
       "Index(['VendorID', 'tpep_pickup_datetime', 'tpep_dropoff_datetime',\n",
       "       'passenger_count', 'trip_distance', 'RatecodeID', 'store_and_fwd_flag',\n",
       "       'PULocationID', 'DOLocationID', 'payment_type', 'fare_amount', 'extra',\n",
       "       'mta_tax', 'tip_amount', 'tolls_amount', 'improvement_surcharge',\n",
       "       'total_amount', 'congestion_surcharge', 'airport_fee'],\n",
       "      dtype='object')"
      ]
     },
     "execution_count": 15,
     "metadata": {},
     "output_type": "execute_result"
    }
   ],
   "source": [
    "pd.read_csv('C:/Users/Mark Rozenberg/Yellow-Taxi-Climate/Data/2023_Yellow_Taxi_Trip_Data.csv', nrows=1).columns"
   ]
  },
  {
   "cell_type": "code",
   "execution_count": 19,
   "metadata": {},
   "outputs": [],
   "source": [
    "# Create table in PostgreSQL\n",
    "cur.execute('''\n",
    "    CREATE TABLE IF NOT EXISTS taxi_data (\n",
    "        VendorID INT,\n",
    "        tpep_pickup_datetime TIMESTAMP,\n",
    "        tpep_dropoff_datetime TIMESTAMP,\n",
    "        passenger_count INT,\n",
    "        trip_distance FLOAT,\n",
    "        RatecodeID INT,\n",
    "        store_and_fwd_flag CHAR(1),\n",
    "        PULocationID INT,\n",
    "        DOLocationID INT,\n",
    "        payment_type INT,\n",
    "        fare_amount FLOAT,\n",
    "        extra FLOAT,\n",
    "        mta_tax FLOAT,\n",
    "        tip_amount FLOAT,\n",
    "        tolls_amount FLOAT,\n",
    "        improvement_surcharge FLOAT,\n",
    "        total_amount FLOAT,\n",
    "        congestion_surcharge FLOAT,\n",
    "        airport_fee FLOAT\n",
    "    )\n",
    "''')\n",
    "conn.commit()"
   ]
  },
  {
   "cell_type": "code",
   "execution_count": 20,
   "metadata": {},
   "outputs": [
    {
     "name": "stdout",
     "output_type": "stream",
     "text": [
      "77966324\n"
     ]
    }
   ],
   "source": [
    "cur.execute('SELECT COUNT(*) FROM taxi_data')\n",
    "row_count = cur.fetchone()[0]\n",
    "print(row_count)"
   ]
  },
  {
   "cell_type": "code",
   "execution_count": 21,
   "metadata": {},
   "outputs": [
    {
     "name": "stderr",
     "output_type": "stream",
     "text": [
      "C:\\Users\\Mark Rozenberg\\AppData\\Local\\Temp\\ipykernel_16760\\98094685.py:2: UserWarning: pandas only supports SQLAlchemy connectable (engine/connection) or database string URI or sqlite3 DBAPI2 connection. Other DBAPI2 objects are not tested. Please consider using SQLAlchemy.\n",
      "  taxi_data_df = pd.read_sql_query('SELECT * FROM taxi_data limit 5', conn)\n"
     ]
    },
    {
     "data": {
      "text/html": [
       "<div>\n",
       "<style scoped>\n",
       "    .dataframe tbody tr th:only-of-type {\n",
       "        vertical-align: middle;\n",
       "    }\n",
       "\n",
       "    .dataframe tbody tr th {\n",
       "        vertical-align: top;\n",
       "    }\n",
       "\n",
       "    .dataframe thead th {\n",
       "        text-align: right;\n",
       "    }\n",
       "</style>\n",
       "<table border=\"1\" class=\"dataframe\">\n",
       "  <thead>\n",
       "    <tr style=\"text-align: right;\">\n",
       "      <th></th>\n",
       "      <th>vendorid</th>\n",
       "      <th>tpep_pickup_datetime</th>\n",
       "      <th>tpep_dropoff_datetime</th>\n",
       "      <th>passenger_count</th>\n",
       "      <th>trip_distance</th>\n",
       "      <th>ratecodeid</th>\n",
       "      <th>store_and_fwd_flag</th>\n",
       "      <th>pulocationid</th>\n",
       "      <th>dolocationid</th>\n",
       "      <th>payment_type</th>\n",
       "      <th>fare_amount</th>\n",
       "      <th>extra</th>\n",
       "      <th>mta_tax</th>\n",
       "      <th>tip_amount</th>\n",
       "      <th>tolls_amount</th>\n",
       "      <th>improvement_surcharge</th>\n",
       "      <th>total_amount</th>\n",
       "      <th>congestion_surcharge</th>\n",
       "      <th>airport_fee</th>\n",
       "    </tr>\n",
       "  </thead>\n",
       "  <tbody>\n",
       "    <tr>\n",
       "      <th>0</th>\n",
       "      <td>2</td>\n",
       "      <td>2022-07-19 22:12:14</td>\n",
       "      <td>2022-07-19 22:38:09</td>\n",
       "      <td>1</td>\n",
       "      <td>13.79</td>\n",
       "      <td>1</td>\n",
       "      <td>N</td>\n",
       "      <td>87</td>\n",
       "      <td>127</td>\n",
       "      <td>1</td>\n",
       "      <td>39.5</td>\n",
       "      <td>0.5</td>\n",
       "      <td>0.5</td>\n",
       "      <td>8.66</td>\n",
       "      <td>0.0</td>\n",
       "      <td>0.3</td>\n",
       "      <td>51.96</td>\n",
       "      <td>2.5</td>\n",
       "      <td>0.0</td>\n",
       "    </tr>\n",
       "    <tr>\n",
       "      <th>1</th>\n",
       "      <td>2</td>\n",
       "      <td>2022-07-19 22:55:56</td>\n",
       "      <td>2022-07-19 23:04:33</td>\n",
       "      <td>1</td>\n",
       "      <td>1.77</td>\n",
       "      <td>1</td>\n",
       "      <td>N</td>\n",
       "      <td>75</td>\n",
       "      <td>238</td>\n",
       "      <td>2</td>\n",
       "      <td>8.5</td>\n",
       "      <td>0.5</td>\n",
       "      <td>0.5</td>\n",
       "      <td>0.00</td>\n",
       "      <td>0.0</td>\n",
       "      <td>0.3</td>\n",
       "      <td>12.30</td>\n",
       "      <td>2.5</td>\n",
       "      <td>0.0</td>\n",
       "    </tr>\n",
       "    <tr>\n",
       "      <th>2</th>\n",
       "      <td>2</td>\n",
       "      <td>2022-07-19 22:07:09</td>\n",
       "      <td>2022-07-19 22:30:26</td>\n",
       "      <td>2</td>\n",
       "      <td>4.50</td>\n",
       "      <td>1</td>\n",
       "      <td>N</td>\n",
       "      <td>238</td>\n",
       "      <td>234</td>\n",
       "      <td>1</td>\n",
       "      <td>18.5</td>\n",
       "      <td>0.5</td>\n",
       "      <td>0.5</td>\n",
       "      <td>0.00</td>\n",
       "      <td>0.0</td>\n",
       "      <td>0.3</td>\n",
       "      <td>22.30</td>\n",
       "      <td>2.5</td>\n",
       "      <td>0.0</td>\n",
       "    </tr>\n",
       "    <tr>\n",
       "      <th>3</th>\n",
       "      <td>2</td>\n",
       "      <td>2022-07-19 22:32:29</td>\n",
       "      <td>2022-07-19 22:49:48</td>\n",
       "      <td>2</td>\n",
       "      <td>3.89</td>\n",
       "      <td>1</td>\n",
       "      <td>N</td>\n",
       "      <td>234</td>\n",
       "      <td>263</td>\n",
       "      <td>1</td>\n",
       "      <td>14.5</td>\n",
       "      <td>0.5</td>\n",
       "      <td>0.5</td>\n",
       "      <td>2.00</td>\n",
       "      <td>0.0</td>\n",
       "      <td>0.3</td>\n",
       "      <td>20.30</td>\n",
       "      <td>2.5</td>\n",
       "      <td>0.0</td>\n",
       "    </tr>\n",
       "    <tr>\n",
       "      <th>4</th>\n",
       "      <td>1</td>\n",
       "      <td>2022-07-19 22:06:40</td>\n",
       "      <td>2022-07-19 22:27:06</td>\n",
       "      <td>1</td>\n",
       "      <td>4.90</td>\n",
       "      <td>1</td>\n",
       "      <td>N</td>\n",
       "      <td>141</td>\n",
       "      <td>112</td>\n",
       "      <td>2</td>\n",
       "      <td>18.5</td>\n",
       "      <td>3.0</td>\n",
       "      <td>0.5</td>\n",
       "      <td>0.00</td>\n",
       "      <td>0.0</td>\n",
       "      <td>0.3</td>\n",
       "      <td>22.30</td>\n",
       "      <td>2.5</td>\n",
       "      <td>0.0</td>\n",
       "    </tr>\n",
       "  </tbody>\n",
       "</table>\n",
       "</div>"
      ],
      "text/plain": [
       "   vendorid tpep_pickup_datetime tpep_dropoff_datetime  passenger_count  \\\n",
       "0         2  2022-07-19 22:12:14   2022-07-19 22:38:09                1   \n",
       "1         2  2022-07-19 22:55:56   2022-07-19 23:04:33                1   \n",
       "2         2  2022-07-19 22:07:09   2022-07-19 22:30:26                2   \n",
       "3         2  2022-07-19 22:32:29   2022-07-19 22:49:48                2   \n",
       "4         1  2022-07-19 22:06:40   2022-07-19 22:27:06                1   \n",
       "\n",
       "   trip_distance  ratecodeid store_and_fwd_flag  pulocationid  dolocationid  \\\n",
       "0          13.79           1                  N            87           127   \n",
       "1           1.77           1                  N            75           238   \n",
       "2           4.50           1                  N           238           234   \n",
       "3           3.89           1                  N           234           263   \n",
       "4           4.90           1                  N           141           112   \n",
       "\n",
       "   payment_type  fare_amount  extra  mta_tax  tip_amount  tolls_amount  \\\n",
       "0             1         39.5    0.5      0.5        8.66           0.0   \n",
       "1             2          8.5    0.5      0.5        0.00           0.0   \n",
       "2             1         18.5    0.5      0.5        0.00           0.0   \n",
       "3             1         14.5    0.5      0.5        2.00           0.0   \n",
       "4             2         18.5    3.0      0.5        0.00           0.0   \n",
       "\n",
       "   improvement_surcharge  total_amount  congestion_surcharge  airport_fee  \n",
       "0                    0.3         51.96                   2.5          0.0  \n",
       "1                    0.3         12.30                   2.5          0.0  \n",
       "2                    0.3         22.30                   2.5          0.0  \n",
       "3                    0.3         20.30                   2.5          0.0  \n",
       "4                    0.3         22.30                   2.5          0.0  "
      ]
     },
     "execution_count": 21,
     "metadata": {},
     "output_type": "execute_result"
    }
   ],
   "source": [
    "# Read data from PostgreSQL table into a pandas DataFrame\n",
    "taxi_data_df = pd.read_sql_query('SELECT * FROM taxi_data limit 5', conn)\n",
    "taxi_data_df"
   ]
  }
 ],
 "metadata": {
  "kernelspec": {
   "display_name": ".venv",
   "language": "python",
   "name": "python3"
  },
  "language_info": {
   "codemirror_mode": {
    "name": "ipython",
    "version": 3
   },
   "file_extension": ".py",
   "mimetype": "text/x-python",
   "name": "python",
   "nbconvert_exporter": "python",
   "pygments_lexer": "ipython3",
   "version": "3.12.6"
  }
 },
 "nbformat": 4,
 "nbformat_minor": 2
}
